{
 "cells": [
  {
   "cell_type": "code",
   "execution_count": 1,
   "id": "4e99e8c9",
   "metadata": {},
   "outputs": [],
   "source": [
    "# Импорт библиотек\n",
    "import matplotlib.pyplot as plt\n",
    "%matplotlib inline\n",
    "import torch\n",
    "import numpy as np\n",
    "import torchvision as tv\n",
    "import time\n",
    "from torch import nn"
   ]
  },
  {
   "cell_type": "code",
   "execution_count": 2,
   "id": "7ae22b7f",
   "metadata": {},
   "outputs": [],
   "source": [
    "# Число бачей\n",
    "bs = 256"
   ]
  },
  {
   "cell_type": "code",
   "execution_count": 3,
   "id": "74bb8ec2",
   "metadata": {},
   "outputs": [],
   "source": [
    "# Загружаем данные\n",
    "train_dataset = tv.datasets.FashionMNIST('.', train = True, transform=tv.transforms.ToTensor(), download=True)\n",
    "test_dataset = tv.datasets.FashionMNIST('.', train=False, transform=tv.transforms.ToTensor(), download=True)\n",
    "train_iter = torch.utils.data.DataLoader(train_dataset, batch_size=bs)\n",
    "test_iter = torch.utils.data.DataLoader(test_dataset, batch_size=bs)"
   ]
  },
  {
   "cell_type": "code",
   "execution_count": 4,
   "id": "187aaaf6",
   "metadata": {},
   "outputs": [
    {
     "data": {
      "text/plain": [
       "Dataset FashionMNIST\n",
       "    Number of datapoints: 60000\n",
       "    Root location: .\n",
       "    Split: Train\n",
       "    StandardTransform\n",
       "Transform: ToTensor()"
      ]
     },
     "execution_count": 4,
     "metadata": {},
     "output_type": "execute_result"
    }
   ],
   "source": [
    "train_dataset"
   ]
  },
  {
   "cell_type": "code",
   "execution_count": 5,
   "id": "90837b62",
   "metadata": {},
   "outputs": [
    {
     "data": {
      "text/plain": [
       "<matplotlib.image.AxesImage at 0x254aedd08b0>"
      ]
     },
     "execution_count": 5,
     "metadata": {},
     "output_type": "execute_result"
    },
    {
     "data": {
      "image/png": "[encoded data removed]",
      "text/plain": [
       "<Figure size 640x480 with 1 Axes>"
      ]
     },
     "metadata": {},
     "output_type": "display_data"
    }
   ],
   "source": [
    "# Пример изображения\n",
    "plt.imshow(train_dataset[0][0].numpy().reshape(28,28), cmap='gray')"
   ]
  },
  {
   "cell_type": "code",
   "execution_count": 6,
   "id": "4d5fe33e",
   "metadata": {},
   "outputs": [
    {
     "data": {
      "text/plain": [
       "['T-shirt/top',\n",
       " 'Trouser',\n",
       " 'Pullover',\n",
       " 'Dress',\n",
       " 'Coat',\n",
       " 'Sandal',\n",
       " 'Shirt',\n",
       " 'Sneaker',\n",
       " 'Bag',\n",
       " 'Ankle boot']"
      ]
     },
     "execution_count": 6,
     "metadata": {},
     "output_type": "execute_result"
    }
   ],
   "source": [
    "# Число классов - 10\n",
    "train_dataset.classes"
   ]
  },
  {
   "cell_type": "code",
   "execution_count": 7,
   "id": "9b190940",
   "metadata": {},
   "outputs": [],
   "source": [
    "# Выбираем девайс, который доступен\n",
    "dev = torch.device(\"cuda\") if torch.cuda.is_available() else torch.device(\"cpu\")"
   ]
  },
  {
   "cell_type": "code",
   "execution_count": 8,
   "id": "3f64ca3a",
   "metadata": {},
   "outputs": [
    {
     "data": {
      "text/plain": [
       "device(type='cpu')"
      ]
     },
     "execution_count": 8,
     "metadata": {},
     "output_type": "execute_result"
    }
   ],
   "source": [
    "# У меня доступен cpu\n",
    "dev"
   ]
  },
  {
   "cell_type": "code",
   "execution_count": 9,
   "id": "a9774efa",
   "metadata": {},
   "outputs": [],
   "source": [
    "# Создаем модель\n",
    "# Оставляем арихитектуру модели, представленную на лекции \n",
    "# + я попробовала добавить слой батч-нормализации, потому что он улучшал аналогичную модель в предыдущем задании\n",
    "model = nn.Sequential(\n",
    "    nn.Conv2d(1, 6, kernel_size=5, padding=2),\n",
    "    nn.ReLU(),\n",
    "    nn.MaxPool2d(2, stride=2),\n",
    "    nn.Conv2d(6, 12, kernel_size=5),\n",
    "    nn.ReLU(),\n",
    "    nn.MaxPool2d(2, stride=2),\n",
    "    nn.Flatten(),\n",
    "    nn.Linear(300, 50),\n",
    "    nn.BatchNorm1d(50),\n",
    "    nn.ReLU(),\n",
    "    nn.Linear(50, 10)\n",
    ")"
   ]
  },
  {
   "cell_type": "code",
   "execution_count": 10,
   "id": "897d0237",
   "metadata": {},
   "outputs": [],
   "source": [
    "# Отправляем модель на dev\n",
    "model = model.to(dev)"
   ]
  },
  {
   "cell_type": "code",
   "execution_count": 11,
   "id": "846e2982",
   "metadata": {},
   "outputs": [],
   "source": [
    "# Определение функции\n",
    "def train(net, train_iter, test_iter, trainer, num_epochs, dev):\n",
    "    loss = nn.CrossEntropyLoss(reduction='sum')\n",
    "    for epoch in range(num_epochs):\n",
    "        train_l_sum, train_acc_sum, n, start = 0.0, 0.0, 0, time.time()\n",
    "        for X, y in train_iter:\n",
    "            trainer.zero_grad()\n",
    "            X, y = X.to(dev), y.to(dev)\n",
    "            y_hat = net(X)\n",
    "            l = loss(y_hat, y)\n",
    "            l.backward()\n",
    "            trainer.step()\n",
    "            train_l_sum += l.item()\n",
    "            train_acc_sum += (y_hat.argmax(axis=1) == y).sum().item()\n",
    "            n += y.shape[0]\n",
    "        test_acc = evaluate_accuracy(test_iter, net, dev)\n",
    "        print('epoch %d, loss %.4f, train acc %.3f, test acc %.3f, '\n",
    "              'time %.1f sec'\n",
    "              % (epoch + 1, train_l_sum / n, train_acc_sum / n, test_acc,\n",
    "                 time.time() - start))"
   ]
  },
  {
   "cell_type": "code",
   "execution_count": 12,
   "id": "b076b351",
   "metadata": {},
   "outputs": [],
   "source": [
    "# Точность\n",
    "def evaluate_accuracy(data_iter, net, dev):\n",
    "    acc_sum, n = torch.Tensor([0]).to(dev), 0\n",
    "    for X, y in data_iter:\n",
    "        X, y = X.to(dev), y.to(dev)\n",
    "        acc_sum += (net(X).argmax(axis=1) == y).sum()\n",
    "        n += y.shape[0]\n",
    "    return acc_sum.item() / n"
   ]
  },
  {
   "cell_type": "code",
   "execution_count": 14,
   "id": "4e113243",
   "metadata": {},
   "outputs": [
    {
     "name": "stdout",
     "output_type": "stream",
     "text": [
      "epoch 1, loss 0.2111, train acc 0.923, test acc 0.893, time 12.2 sec\n",
      "epoch 2, loss 0.2054, train acc 0.925, test acc 0.895, time 11.2 sec\n",
      "epoch 3, loss 0.1995, train acc 0.928, test acc 0.896, time 11.0 sec\n",
      "epoch 4, loss 0.1938, train acc 0.929, test acc 0.896, time 13.8 sec\n",
      "epoch 5, loss 0.1894, train acc 0.931, test acc 0.896, time 14.7 sec\n",
      "epoch 6, loss 0.1847, train acc 0.933, test acc 0.895, time 12.1 sec\n",
      "epoch 7, loss 0.1806, train acc 0.934, test acc 0.896, time 11.1 sec\n",
      "epoch 8, loss 0.1761, train acc 0.936, test acc 0.896, time 15.4 sec\n",
      "epoch 9, loss 0.1719, train acc 0.938, test acc 0.897, time 14.2 sec\n",
      "epoch 10, loss 0.1686, train acc 0.939, test acc 0.898, time 11.2 sec\n",
      "epoch 11, loss 0.1647, train acc 0.940, test acc 0.895, time 10.9 sec\n",
      "epoch 12, loss 0.1609, train acc 0.943, test acc 0.896, time 11.0 sec\n"
     ]
    }
   ],
   "source": [
    "# Обучение\n",
    "lr, num_epochs = 0.001, 12\n",
    "trainer = torch.optim.SGD(model.parameters(), lr=lr)\n",
    "train(model, train_iter, test_iter, trainer, num_epochs, dev)\n",
    "# точность на тесте составила 89,6%"
   ]
  }
 ],
 "metadata": {
  "kernelspec": {
   "display_name": "Python 3 (ipykernel)",
   "language": "python",
   "name": "python3"
  },
  "language_info": {
   "codemirror_mode": {
    "name": "ipython",
    "version": 3
   },
   "file_extension": ".py",
   "mimetype": "text/x-python",
   "name": "python",
   "nbconvert_exporter": "python",
   "pygments_lexer": "ipython3",
   "version": "3.10.9"
  }
 },
 "nbformat": 4,
 "nbformat_minor": 5
}
