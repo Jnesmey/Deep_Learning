{
 "cells": [
  {
   "cell_type": "code",
   "execution_count": 1,
   "id": "a9154866",
   "metadata": {},
   "outputs": [],
   "source": [
    "# Импорт библиотек\n",
    "import matplotlib.pyplot as plt\n",
    "%matplotlib inline\n",
    "import torch\n",
    "import numpy as np\n",
    "import torchvision as tv\n",
    "import time"
   ]
  },
  {
   "cell_type": "code",
   "execution_count": 2,
   "id": "7edd2002",
   "metadata": {},
   "outputs": [],
   "source": [
    "# Число бачей\n",
    "bs = 256"
   ]
  },
  {
   "cell_type": "code",
   "execution_count": 3,
   "id": "7680e1c4",
   "metadata": {},
   "outputs": [
    {
     "name": "stdout",
     "output_type": "stream",
     "text": [
      "Downloading http://fashion-mnist.s3-website.eu-central-1.amazonaws.com/train-images-idx3-ubyte.gz\n",
      "Downloading http://fashion-mnist.s3-website.eu-central-1.amazonaws.com/train-images-idx3-ubyte.gz to .\\FashionMNIST\\raw\\train-images-idx3-ubyte.gz\n"
     ]
    },
    {
     "name": "stderr",
     "output_type": "stream",
     "text": [
      "100%|██████████| 26421880/26421880 [04:44<00:00, 92994.17it/s] \n"
     ]
    },
    {
     "name": "stdout",
     "output_type": "stream",
     "text": [
      "Extracting .\\FashionMNIST\\raw\\train-images-idx3-ubyte.gz to .\\FashionMNIST\\raw\n",
      "\n",
      "Downloading http://fashion-mnist.s3-website.eu-central-1.amazonaws.com/train-labels-idx1-ubyte.gz\n",
      "Downloading http://fashion-mnist.s3-website.eu-central-1.amazonaws.com/train-labels-idx1-ubyte.gz to .\\FashionMNIST\\raw\\train-labels-idx1-ubyte.gz\n"
     ]
    },
    {
     "name": "stderr",
     "output_type": "stream",
     "text": [
      "100%|██████████| 29515/29515 [00:00<?, ?it/s]\n"
     ]
    },
    {
     "name": "stdout",
     "output_type": "stream",
     "text": [
      "Extracting .\\FashionMNIST\\raw\\train-labels-idx1-ubyte.gz to .\\FashionMNIST\\raw\n",
      "\n",
      "Downloading http://fashion-mnist.s3-website.eu-central-1.amazonaws.com/t10k-images-idx3-ubyte.gz\n",
      "Downloading http://fashion-mnist.s3-website.eu-central-1.amazonaws.com/t10k-images-idx3-ubyte.gz to .\\FashionMNIST\\raw\\t10k-images-idx3-ubyte.gz\n"
     ]
    },
    {
     "name": "stderr",
     "output_type": "stream",
     "text": [
      "100%|██████████| 4422102/4422102 [00:00<00:00, 7432839.50it/s]\n"
     ]
    },
    {
     "name": "stdout",
     "output_type": "stream",
     "text": [
      "Extracting .\\FashionMNIST\\raw\\t10k-images-idx3-ubyte.gz to .\\FashionMNIST\\raw\n",
      "\n",
      "Downloading http://fashion-mnist.s3-website.eu-central-1.amazonaws.com/t10k-labels-idx1-ubyte.gz\n",
      "Downloading http://fashion-mnist.s3-website.eu-central-1.amazonaws.com/t10k-labels-idx1-ubyte.gz to .\\FashionMNIST\\raw\\t10k-labels-idx1-ubyte.gz\n"
     ]
    },
    {
     "name": "stderr",
     "output_type": "stream",
     "text": [
      "100%|██████████| 5148/5148 [00:00<?, ?it/s]"
     ]
    },
    {
     "name": "stdout",
     "output_type": "stream",
     "text": [
      "Extracting .\\FashionMNIST\\raw\\t10k-labels-idx1-ubyte.gz to .\\FashionMNIST\\raw\n",
      "\n"
     ]
    },
    {
     "name": "stderr",
     "output_type": "stream",
     "text": [
      "\n"
     ]
    }
   ],
   "source": [
    "# Загружаем данные\n",
    "train_dataset = tv.datasets.FashionMNIST('.', train = True, transform=tv.transforms.ToTensor(), download=True)\n",
    "test_dataset = tv.datasets.FashionMNIST('.', train=False, transform=tv.transforms.ToTensor(), download=True)\n",
    "train = torch.utils.data.DataLoader(train_dataset, batch_size=bs)\n",
    "test = torch.utils.data.DataLoader(test_dataset, batch_size=bs)"
   ]
  },
  {
   "cell_type": "code",
   "execution_count": 4,
   "id": "77941242",
   "metadata": {},
   "outputs": [
    {
     "data": {
      "text/plain": [
       "<matplotlib.image.AxesImage at 0x16d18ad7730>"
      ]
     },
     "execution_count": 4,
     "metadata": {},
     "output_type": "execute_result"
    },
    {
     "data": {
      "image/png": "[encoded data removed]",
      "text/plain": [
       "<Figure size 640x480 with 1 Axes>"
      ]
     },
     "metadata": {},
     "output_type": "display_data"
    }
   ],
   "source": [
    "# Пример изображения\n",
    "plt.imshow(train_dataset[0][0].numpy().reshape(28,28), cmap='gray')"
   ]
  },
  {
   "cell_type": "code",
   "execution_count": 5,
   "id": "36f3519c",
   "metadata": {},
   "outputs": [
    {
     "data": {
      "text/plain": [
       "['T-shirt/top',\n",
       " 'Trouser',\n",
       " 'Pullover',\n",
       " 'Dress',\n",
       " 'Coat',\n",
       " 'Sandal',\n",
       " 'Shirt',\n",
       " 'Sneaker',\n",
       " 'Bag',\n",
       " 'Ankle boot']"
      ]
     },
     "execution_count": 5,
     "metadata": {},
     "output_type": "execute_result"
    }
   ],
   "source": [
    "# Число классов - 10\n",
    "train_dataset.classes"
   ]
  },
  {
   "cell_type": "code",
   "execution_count": 6,
   "id": "ea053c6e",
   "metadata": {},
   "outputs": [],
   "source": [
    "# Создаем простую модель как на практике\n",
    "model = torch.nn.Sequential(\n",
    "    torch.nn.Flatten(),\n",
    "    torch.nn.Linear(784, 256),\n",
    "    torch.nn.ReLU(),\n",
    "    torch.nn.Linear(256, 10)\n",
    ")"
   ]
  },
  {
   "cell_type": "code",
   "execution_count": 7,
   "id": "63b58594",
   "metadata": {},
   "outputs": [],
   "source": [
    "# Ставим как на практике оптимизатор градиентный спуск и функцию потерь CrossEntropyLoss\n",
    "loss = torch.nn.CrossEntropyLoss()\n",
    "trainer = torch.optim.SGD(model.parameters(), lr=0.1)\n",
    "num_epochs = 15"
   ]
  },
  {
   "cell_type": "code",
   "execution_count": 8,
   "id": "b1419753",
   "metadata": {},
   "outputs": [],
   "source": [
    "# Обучаем модель\n",
    "def train_model():\n",
    "    for ep in range(num_epochs):\n",
    "        train_iters, train_passed  = 0, 0\n",
    "        train_loss, train_acc = 0., 0.\n",
    "    \n",
    "        for X, y in train:\n",
    "            trainer.zero_grad()\n",
    "            y_pred = model(X)\n",
    "            l = loss(y_pred, y)\n",
    "            l.backward()\n",
    "            trainer.step()\n",
    "            train_loss += l.item()\n",
    "            train_acc += (y_pred.argmax(dim=1) == y).sum().item()\n",
    "            train_iters += 1\n",
    "            train_passed += len(X)\n",
    "    \n",
    "        test_iters, test_passed  = 0, 0\n",
    "        test_loss, test_acc = 0., 0.\n",
    "        for X, y in test:\n",
    "            y_pred = model(X)\n",
    "            l = loss(y_pred, y)\n",
    "            test_loss += l.item()\n",
    "            test_acc += (y_pred.argmax(dim=1) == y).sum().item()\n",
    "            test_iters += 1\n",
    "            test_passed += len(X)\n",
    "        \n",
    "        print(\"ep: {}, train_loss: {}, train_acc: {}, test_loss: {}, test_acc: {}\".format(\n",
    "            ep, train_loss / train_iters, train_acc / train_passed,\n",
    "            test_loss / test_iters, test_acc / test_passed)\n",
    "        )\n"
   ]
  },
  {
   "cell_type": "code",
   "execution_count": 9,
   "id": "3dfc7157",
   "metadata": {},
   "outputs": [
    {
     "name": "stdout",
     "output_type": "stream",
     "text": [
      "ep: 0, train_loss: 0.8608563251951907, train_acc: 0.7140666666666666, test_loss: 0.775048641115427, test_acc: 0.7253\n",
      "ep: 1, train_loss: 0.552211661034442, train_acc: 0.8077166666666666, test_loss: 0.6477062597870826, test_acc: 0.7727\n",
      "ep: 2, train_loss: 0.4916766109618735, train_acc: 0.8283666666666667, test_loss: 0.5559326089918614, test_acc: 0.8061\n",
      "ep: 3, train_loss: 0.45873873398659076, train_acc: 0.8392, test_loss: 0.5106687806546688, test_acc: 0.82\n",
      "ep: 4, train_loss: 0.4357680341030689, train_acc: 0.8477333333333333, test_loss: 0.4784102328121662, test_acc: 0.8298\n",
      "ep: 5, train_loss: 0.4180014010439528, train_acc: 0.8534, test_loss: 0.45758517310023306, test_acc: 0.8392\n",
      "ep: 6, train_loss: 0.40363852686070384, train_acc: 0.8583333333333333, test_loss: 0.44085384011268614, test_acc: 0.8437\n",
      "ep: 7, train_loss: 0.39139171268077605, train_acc: 0.8626833333333334, test_loss: 0.4291072368621826, test_acc: 0.8482\n",
      "ep: 8, train_loss: 0.38090997718750164, train_acc: 0.8659666666666667, test_loss: 0.4204472988843918, test_acc: 0.8509\n",
      "ep: 9, train_loss: 0.371728952387546, train_acc: 0.8691333333333333, test_loss: 0.40945978462696075, test_acc: 0.854\n",
      "ep: 10, train_loss: 0.363377664951568, train_acc: 0.8721333333333333, test_loss: 0.4018426902592182, test_acc: 0.8567\n",
      "ep: 11, train_loss: 0.35591465272801986, train_acc: 0.8744166666666666, test_loss: 0.39654207676649095, test_acc: 0.8578\n",
      "ep: 12, train_loss: 0.34898285212668967, train_acc: 0.8767666666666667, test_loss: 0.390609472990036, test_acc: 0.8592\n",
      "ep: 13, train_loss: 0.34245528369507894, train_acc: 0.8789833333333333, test_loss: 0.38506535813212395, test_acc: 0.862\n",
      "ep: 14, train_loss: 0.3364300237691149, train_acc: 0.8809, test_loss: 0.38030682913959024, test_acc: 0.8639\n"
     ]
    }
   ],
   "source": [
    "train_model()\n",
    "# Получаем точность на тесте 0,8639"
   ]
  },
  {
   "cell_type": "code",
   "execution_count": 10,
   "id": "530d3080",
   "metadata": {},
   "outputs": [
    {
     "name": "stdout",
     "output_type": "stream",
     "text": [
      "ep: 0, train_loss: 185.54452780713427, train_acc: 0.5413166666666667, test_loss: 3.377155824005604, test_acc: 0.5706\n",
      "ep: 1, train_loss: 1.8367763526896213, train_acc: 0.5575333333333333, test_loss: 1.5729563392698764, test_acc: 0.5366\n",
      "ep: 2, train_loss: 1.8959310394652347, train_acc: 0.5186833333333334, test_loss: 1.36993907392025, test_acc: 0.5267\n",
      "ep: 3, train_loss: 2.2339275081106957, train_acc: 0.46726666666666666, test_loss: 1.5423120081424713, test_acc: 0.4377\n",
      "ep: 4, train_loss: 1.4245238192537997, train_acc: 0.4355, test_loss: 1.4503286227583885, test_acc: 0.4039\n",
      "ep: 5, train_loss: 1.5727020167289896, train_acc: 0.4471333333333333, test_loss: 1.35480395257473, test_acc: 0.5002\n",
      "ep: 6, train_loss: 1.7221907077951635, train_acc: 0.3799, test_loss: 2.1033694565296175, test_acc: 0.1905\n",
      "ep: 7, train_loss: 2.1343200272702156, train_acc: 0.20333333333333334, test_loss: 2.068955385684967, test_acc: 0.1952\n",
      "ep: 8, train_loss: 2.186567492687956, train_acc: 0.22381666666666666, test_loss: 2.0303862243890762, test_acc: 0.2137\n",
      "ep: 9, train_loss: 2.9349338729330836, train_acc: 0.2444, test_loss: 1.9208359122276306, test_acc: 0.2586\n",
      "ep: 10, train_loss: 2.5424577809394675, train_acc: 0.29636666666666667, test_loss: 1.7689121454954146, test_acc: 0.3291\n",
      "ep: 11, train_loss: 1.7401298507731011, train_acc: 0.3419, test_loss: 1.7482240229845047, test_acc: 0.3315\n",
      "ep: 12, train_loss: 1.8057680444514497, train_acc: 0.3409333333333333, test_loss: 1.7291058480739594, test_acc: 0.3378\n",
      "ep: 13, train_loss: 1.8690685698326597, train_acc: 0.31088333333333334, test_loss: 1.7998202830553054, test_acc: 0.3206\n",
      "ep: 14, train_loss: 1.837473346324677, train_acc: 0.30528333333333335, test_loss: 1.9302673786878586, test_acc: 0.2869\n"
     ]
    }
   ],
   "source": [
    "# Изменим модель\n",
    "# Для начала попробуем менять оптимизаторы\n",
    "model = torch.nn.Sequential(\n",
    "    torch.nn.Flatten(),\n",
    "    torch.nn.Linear(784, 256),\n",
    "    torch.nn.ReLU(),\n",
    "    torch.nn.Linear(256, 10)\n",
    ")\n",
    "trainer = torch.optim.RMSprop(model.parameters(), lr=0.1)\n",
    "train_model()\n",
    "# Получаем низкую точность"
   ]
  },
  {
   "cell_type": "code",
   "execution_count": 14,
   "id": "dffa7b1e",
   "metadata": {},
   "outputs": [
    {
     "name": "stdout",
     "output_type": "stream",
     "text": [
      "ep: 0, train_loss: 2.683163329134596, train_acc: 0.6118333333333333, test_loss: 0.7561386369168759, test_acc: 0.7367\n",
      "ep: 1, train_loss: 0.7267020496916263, train_acc: 0.74205, test_loss: 0.7405859388411045, test_acc: 0.7477\n",
      "ep: 2, train_loss: 0.6594821531721886, train_acc: 0.76065, test_loss: 0.6940270885825157, test_acc: 0.7684\n",
      "ep: 3, train_loss: 0.6584527214790913, train_acc: 0.7648166666666667, test_loss: 0.7339605048298836, test_acc: 0.7713\n",
      "ep: 4, train_loss: 0.6757610506199776, train_acc: 0.7568333333333334, test_loss: 0.73151750639081, test_acc: 0.7572\n",
      "ep: 5, train_loss: 0.6576279376415496, train_acc: 0.7632, test_loss: 0.7468474552035331, test_acc: 0.7534\n",
      "ep: 6, train_loss: 0.6610102694085304, train_acc: 0.7650833333333333, test_loss: 0.9201384983956814, test_acc: 0.7244\n",
      "ep: 7, train_loss: 0.6586877258534127, train_acc: 0.7641, test_loss: 0.785281328856945, test_acc: 0.7564\n",
      "ep: 8, train_loss: 0.6720324400891649, train_acc: 0.7617833333333334, test_loss: 0.8617226280272007, test_acc: 0.7463\n",
      "ep: 9, train_loss: 0.6507593782658273, train_acc: 0.7690166666666667, test_loss: 0.8321879625320434, test_acc: 0.7555\n",
      "ep: 10, train_loss: 0.6317506639247245, train_acc: 0.7709833333333334, test_loss: 0.8584444031119347, test_acc: 0.7683\n",
      "ep: 11, train_loss: 0.6900754640711114, train_acc: 0.7600333333333333, test_loss: 0.8521236807107926, test_acc: 0.7445\n",
      "ep: 12, train_loss: 0.6561770208338473, train_acc: 0.7692333333333333, test_loss: 0.8605067372322083, test_acc: 0.6853\n",
      "ep: 13, train_loss: 0.692317559617631, train_acc: 0.7563166666666666, test_loss: 0.785836361348629, test_acc: 0.7558\n",
      "ep: 14, train_loss: 0.7649377684643928, train_acc: 0.74895, test_loss: 0.8466137208044529, test_acc: 0.7407\n"
     ]
    }
   ],
   "source": [
    "# Для оптимизатора Adam\n",
    "model = torch.nn.Sequential(\n",
    "    torch.nn.Flatten(),\n",
    "    torch.nn.Linear(784, 256),\n",
    "    torch.nn.ReLU(),\n",
    "    torch.nn.Linear(256, 10)\n",
    ")\n",
    "trainer = torch.optim.Adam(model.parameters(), lr=0.1)\n",
    "train_model()\n",
    "# Получаем точность ниже, чем при спуске"
   ]
  },
  {
   "cell_type": "code",
   "execution_count": 15,
   "id": "5bdc377e",
   "metadata": {},
   "outputs": [
    {
     "name": "stdout",
     "output_type": "stream",
     "text": [
      "ep: 0, train_loss: 1.3177809436270531, train_acc: 0.51005, test_loss: 0.944414596259594, test_acc: 0.6546\n",
      "ep: 1, train_loss: 0.6713382226355532, train_acc: 0.7512833333333333, test_loss: 0.73448301628232, test_acc: 0.733\n",
      "ep: 2, train_loss: 0.5526158061433346, train_acc: 0.8009166666666667, test_loss: 0.5930921085178852, test_acc: 0.7844\n",
      "ep: 3, train_loss: 0.489221120768405, train_acc: 0.8241, test_loss: 0.5266956843435764, test_acc: 0.8105\n",
      "ep: 4, train_loss: 0.44922923534474474, train_acc: 0.8369333333333333, test_loss: 0.4811359576880932, test_acc: 0.8267\n",
      "ep: 5, train_loss: 0.42125163040262587, train_acc: 0.8470666666666666, test_loss: 0.4562217406928539, test_acc: 0.8355\n",
      "ep: 6, train_loss: 0.3992107657676047, train_acc: 0.8547333333333333, test_loss: 0.4438879355788231, test_acc: 0.8409\n",
      "ep: 7, train_loss: 0.3818746569308829, train_acc: 0.8613, test_loss: 0.43170753084123137, test_acc: 0.8448\n",
      "ep: 8, train_loss: 0.3674866165886534, train_acc: 0.8662666666666666, test_loss: 0.421486159414053, test_acc: 0.8494\n",
      "ep: 9, train_loss: 0.3539353610987359, train_acc: 0.8706666666666667, test_loss: 0.42169945649802687, test_acc: 0.8474\n",
      "ep: 10, train_loss: 0.34258707000854166, train_acc: 0.8753, test_loss: 0.4143705781549215, test_acc: 0.8499\n",
      "ep: 11, train_loss: 0.3323164603811629, train_acc: 0.8783166666666666, test_loss: 0.4046291247010231, test_acc: 0.8533\n",
      "ep: 12, train_loss: 0.32318306153124954, train_acc: 0.8816833333333334, test_loss: 0.39484122171998026, test_acc: 0.8576\n",
      "ep: 13, train_loss: 0.314075261227628, train_acc: 0.8850166666666667, test_loss: 0.3879819504916668, test_acc: 0.8595\n",
      "ep: 14, train_loss: 0.3067756292667795, train_acc: 0.887, test_loss: 0.3853921558707952, test_acc: 0.8603\n"
     ]
    }
   ],
   "source": [
    "# Попробуем просто увеличить количество слоев\n",
    "\n",
    "model = torch.nn.Sequential(\n",
    "    torch.nn.Flatten(),\n",
    "    torch.nn.Linear(784, 256),\n",
    "    torch.nn.ReLU(),\n",
    "    torch.nn.Linear(256, 124),\n",
    "    torch.nn.ReLU(),\n",
    "    torch.nn.Linear(124, 62),\n",
    "    torch.nn.ReLU(),\n",
    "    torch.nn.Linear(62, 10)\n",
    ")\n",
    "trainer = torch.optim.SGD(model.parameters(), lr=0.1)\n",
    "train_model()\n",
    "# Точность 0,8603"
   ]
  },
  {
   "cell_type": "code",
   "execution_count": 14,
   "id": "52cd512d",
   "metadata": {},
   "outputs": [
    {
     "name": "stdout",
     "output_type": "stream",
     "text": [
      "ep: 0, train_loss: 0.4580894259696311, train_acc: 0.8360666666666666, test_loss: 0.4198960348963737, test_acc: 0.849\n",
      "ep: 1, train_loss: 0.3430660901551551, train_acc: 0.87485, test_loss: 0.39687392562627793, test_acc: 0.8562\n",
      "ep: 2, train_loss: 0.3115665966525991, train_acc: 0.8865166666666666, test_loss: 0.36732778027653695, test_acc: 0.8664\n",
      "ep: 3, train_loss: 0.2889496900299762, train_acc: 0.8937, test_loss: 0.3562794096767902, test_acc: 0.8714\n",
      "ep: 4, train_loss: 0.2745618828433625, train_acc: 0.89845, test_loss: 0.36315982770174743, test_acc: 0.8684\n",
      "ep: 5, train_loss: 0.26809685807278816, train_acc: 0.9007833333333334, test_loss: 0.3709750112146139, test_acc: 0.8656\n",
      "ep: 6, train_loss: 0.2599972594291606, train_acc: 0.9034666666666666, test_loss: 0.35195418167859316, test_acc: 0.871\n",
      "ep: 7, train_loss: 0.2508061926415626, train_acc: 0.9078, test_loss: 0.3655282348394394, test_acc: 0.8689\n",
      "ep: 8, train_loss: 0.24802279497714752, train_acc: 0.9088666666666667, test_loss: 0.35059732124209403, test_acc: 0.8743\n",
      "ep: 9, train_loss: 0.23918834731299826, train_acc: 0.9112, test_loss: 0.35866375640034676, test_acc: 0.8761\n",
      "ep: 10, train_loss: 0.2288253923045828, train_acc: 0.9157666666666666, test_loss: 0.371426147967577, test_acc: 0.8697\n",
      "ep: 11, train_loss: 0.2255252665661751, train_acc: 0.9172, test_loss: 0.35537089928984644, test_acc: 0.8731\n",
      "ep: 12, train_loss: 0.21931998241454997, train_acc: 0.9172833333333333, test_loss: 0.3687191415578127, test_acc: 0.8688\n",
      "ep: 13, train_loss: 0.21769878544071888, train_acc: 0.91785, test_loss: 0.3809922534972429, test_acc: 0.8671\n",
      "ep: 14, train_loss: 0.20993014957676542, train_acc: 0.92195, test_loss: 0.3734368775039911, test_acc: 0.8698\n",
      "ep: 15, train_loss: 0.20234732612016354, train_acc: 0.92455, test_loss: 0.3727417405694723, test_acc: 0.8723\n",
      "ep: 16, train_loss: 0.19552756230881874, train_acc: 0.9278, test_loss: 0.36567871533334256, test_acc: 0.877\n",
      "ep: 17, train_loss: 0.18851998086939467, train_acc: 0.9293166666666667, test_loss: 0.3702142722904682, test_acc: 0.8763\n",
      "ep: 18, train_loss: 0.18176360371265005, train_acc: 0.9323333333333333, test_loss: 0.35954717434942723, test_acc: 0.8818\n",
      "ep: 19, train_loss: 0.1708985817559222, train_acc: 0.9368166666666666, test_loss: 0.36993456445634365, test_acc: 0.8784\n"
     ]
    }
   ],
   "source": [
    "# Добавляем батч нормализацию\n",
    "model = torch.nn.Sequential(\n",
    "    torch.nn.Flatten(),\n",
    "    torch.nn.Linear(784, 512),\n",
    "    torch.nn.ReLU(),\n",
    "    torch.nn.BatchNorm1d(512),\n",
    "    torch.nn.Linear(512, 128),\n",
    "    torch.nn.ReLU(),\n",
    "    torch.nn.BatchNorm1d(128),\n",
    "    torch.nn.Linear(128, 10)\n",
    ")\n",
    "trainer = torch.optim.SGD(model.parameters(), lr=0.1)\n",
    "# И немного дольше обучаем\n",
    "num_epochs = 20\n",
    "train_model()\n",
    "# Точность 0,8784"
   ]
  },
  {
   "cell_type": "code",
   "execution_count": 16,
   "id": "faa79d51",
   "metadata": {
    "scrolled": true
   },
   "outputs": [
    {
     "name": "stdout",
     "output_type": "stream",
     "text": [
      "ep: 0, train_loss: 0.46137926464385176, train_acc: 0.8321666666666667, test_loss: 0.42912350296974183, test_acc: 0.8423\n",
      "ep: 1, train_loss: 0.36635467188155396, train_acc: 0.8660666666666667, test_loss: 0.4111369799822569, test_acc: 0.8521\n",
      "ep: 2, train_loss: 0.3379133057087026, train_acc: 0.8743666666666666, test_loss: 0.37543742042034867, test_acc: 0.8659\n",
      "ep: 3, train_loss: 0.310529111547673, train_acc: 0.8856333333333334, test_loss: 0.36811843458563087, test_acc: 0.867\n",
      "ep: 4, train_loss: 0.29531267481915496, train_acc: 0.8900333333333333, test_loss: 0.3707805753685534, test_acc: 0.8656\n",
      "ep: 5, train_loss: 0.2777525930962664, train_acc: 0.8967, test_loss: 0.3617953397333622, test_acc: 0.8729\n",
      "ep: 6, train_loss: 0.2671390428187999, train_acc: 0.89965, test_loss: 0.3571590844541788, test_acc: 0.8741\n",
      "ep: 7, train_loss: 0.25742407409434626, train_acc: 0.9031333333333333, test_loss: 0.35456664990633724, test_acc: 0.8739\n",
      "ep: 8, train_loss: 0.2518016458825862, train_acc: 0.9063833333333333, test_loss: 0.35340714938938617, test_acc: 0.879\n",
      "ep: 9, train_loss: 0.2416209804250839, train_acc: 0.9092666666666667, test_loss: 0.36106531582772733, test_acc: 0.8742\n",
      "ep: 10, train_loss: 0.22974812363056427, train_acc: 0.91425, test_loss: 0.36709491461515426, test_acc: 0.8768\n",
      "ep: 11, train_loss: 0.22705534753647255, train_acc: 0.9149166666666667, test_loss: 0.3665187520906329, test_acc: 0.8749\n",
      "ep: 12, train_loss: 0.2140546999079116, train_acc: 0.9191333333333334, test_loss: 0.3810263184830546, test_acc: 0.8756\n",
      "ep: 13, train_loss: 0.20982061624526976, train_acc: 0.9207666666666666, test_loss: 0.37310799323022364, test_acc: 0.8774\n",
      "ep: 14, train_loss: 0.2069285753876605, train_acc: 0.92245, test_loss: 0.3728074666112661, test_acc: 0.8775\n",
      "ep: 15, train_loss: 0.19810908912344183, train_acc: 0.9252333333333334, test_loss: 0.38687269724905493, test_acc: 0.8807\n",
      "ep: 16, train_loss: 0.19174732429550048, train_acc: 0.9275, test_loss: 0.38953190166503193, test_acc: 0.8771\n",
      "ep: 17, train_loss: 0.18285346528951157, train_acc: 0.9309, test_loss: 0.40062550343573095, test_acc: 0.8789\n",
      "ep: 18, train_loss: 0.17411244930105008, train_acc: 0.9336166666666667, test_loss: 0.4200399424880743, test_acc: 0.8783\n",
      "ep: 19, train_loss: 0.16777564169878656, train_acc: 0.9369666666666666, test_loss: 0.4138129822909832, test_acc: 0.8812\n"
     ]
    }
   ],
   "source": [
    "# Вернем Adam\n",
    "model = torch.nn.Sequential(\n",
    "    torch.nn.Flatten(),\n",
    "    torch.nn.Linear(784, 512),\n",
    "    torch.nn.ReLU(),\n",
    "    torch.nn.BatchNorm1d(512),\n",
    "    torch.nn.Linear(512, 128),\n",
    "    torch.nn.ReLU(),\n",
    "    torch.nn.BatchNorm1d(128),\n",
    "    torch.nn.Linear(128, 10)\n",
    ")\n",
    "trainer = torch.optim.Adam(model.parameters(), lr=0.01)\n",
    "train_model()\n",
    "# Точность 0,8812"
   ]
  }
 ],
 "metadata": {
  "kernelspec": {
   "display_name": "Python 3 (ipykernel)",
   "language": "python",
   "name": "python3"
  },
  "language_info": {
   "codemirror_mode": {
    "name": "ipython",
    "version": 3
   },
   "file_extension": ".py",
   "mimetype": "text/x-python",
   "name": "python",
   "nbconvert_exporter": "python",
   "pygments_lexer": "ipython3",
   "version": "3.10.9"
  }
 },
 "nbformat": 4,
 "nbformat_minor": 5
}
