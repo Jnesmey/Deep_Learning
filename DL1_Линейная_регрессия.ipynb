{
 "cells": [
  {
   "cell_type": "markdown",
   "id": "272a2591",
   "metadata": {},
   "source": [
    "Задание 1.\n",
    "Линейная регрессия"
   ]
  },
  {
   "cell_type": "code",
   "execution_count": 1,
   "id": "d8464c79",
   "metadata": {},
   "outputs": [],
   "source": [
    "import torch\n",
    "import pandas as pd\n",
    "import torch\n",
    "from torch.utils.data import TensorDataset, DataLoader\n",
    "from sklearn.model_selection import train_test_split\n",
    "import numpy as np"
   ]
  },
  {
   "cell_type": "code",
   "execution_count": 2,
   "id": "560c6bda",
   "metadata": {},
   "outputs": [],
   "source": [
    "# Загружаем данные\n",
    "df = pd.read_csv('housing.csv', delim_whitespace=True,header=None)\n",
    "# Делим данные на x и y \n",
    "X = df.drop([13], axis = 1).to_numpy()\n",
    "y = df[13].to_numpy()"
   ]
  },
  {
   "cell_type": "code",
   "execution_count": 3,
   "id": "81f4fc2a",
   "metadata": {},
   "outputs": [],
   "source": [
    "# Разбиваем данные\n",
    "X_train, X_test, y_train, y_test = train_test_split(X, y, test_size=0.25, random_state=42)"
   ]
  },
  {
   "cell_type": "code",
   "execution_count": 4,
   "id": "23c0cea7",
   "metadata": {},
   "outputs": [],
   "source": [
    "# Создаем тензоры\n",
    "X_train_torch = torch.from_numpy(X_train).float()\n",
    "X_test_torch = torch.from_numpy(X_test).float()\n",
    "y_train_torch = torch.from_numpy(y_train).float()\n",
    "y_test_torch = torch.from_numpy(y_test).float()"
   ]
  },
  {
   "cell_type": "code",
   "execution_count": 5,
   "id": "80192e5e",
   "metadata": {},
   "outputs": [],
   "source": [
    "# Создаем модель и параметры\n",
    "batch_size = 100\n",
    "dataset = TensorDataset(X_train_torch, y_train_torch)\n",
    "data_iter = DataLoader(dataset, batch_size, shuffle=True)\n",
    "num_features = X_train.shape[1]\n",
    "model = torch.nn.Sequential(torch.nn.Linear(num_features, 1))\n",
    "loss = torch.nn.MSELoss(reduction='mean')\n",
    "trainer = torch.optim.SGD(model.parameters(), lr=0.0000001)"
   ]
  },
  {
   "cell_type": "code",
   "execution_count": 6,
   "id": "a013ec61",
   "metadata": {},
   "outputs": [
    {
     "name": "stdout",
     "output_type": "stream",
     "text": [
      "epoch 3000, loss: 73.546097 |\tw tensor([[ 0.0828, -0.0216, -0.2243,  0.0101,  0.1709, -0.0515, -0.0110, -0.0063,\n",
      "          0.1219,  0.0069, -0.1849,  0.0767, -0.1930]]) |\tb tensor([-0.1420])\n",
      "epoch 6000, loss: 61.401943 |\tw tensor([[ 0.0463,  0.0513, -0.2234,  0.0112,  0.1716, -0.0312,  0.0441,  0.0004,\n",
      "          0.1079,  0.0046, -0.1675,  0.0674, -0.2342]]) |\tb tensor([-0.1401])\n",
      "epoch 9000, loss: 57.423725 |\tw tensor([[ 0.0146,  0.0848, -0.2214,  0.0122,  0.1723, -0.0127,  0.0729,  0.0055,\n",
      "          0.0974,  0.0041, -0.1516,  0.0623, -0.2742]]) |\tb tensor([-0.1385])\n",
      "epoch 12000, loss: 55.730858 |\tw tensor([[-0.0128,  0.0999, -0.2189,  0.0133,  0.1729,  0.0047,  0.0883,  0.0096,\n",
      "          0.0889,  0.0043, -0.1367,  0.0593, -0.3122]]) |\tb tensor([-0.1369])\n",
      "epoch 15000, loss: 54.757294 |\tw tensor([[-0.0367,  0.1064, -0.2161,  0.0143,  0.1734,  0.0214,  0.0970,  0.0133,\n",
      "          0.0817,  0.0048, -0.1224,  0.0573, -0.3478]]) |\tb tensor([-0.1354])\n",
      "epoch 18000, loss: 54.210075 |\tw tensor([[-0.0575,  0.1087, -0.2131,  0.0152,  0.1740,  0.0376,  0.1024,  0.0166,\n",
      "          0.0754,  0.0056, -0.1085,  0.0558, -0.3811]]) |\tb tensor([-0.1339])\n",
      "epoch 21000, loss: 53.883591 |\tw tensor([[-0.0756,  0.1091, -0.2099,  0.0162,  0.1746,  0.0534,  0.1061,  0.0198,\n",
      "          0.0698,  0.0062, -0.0949,  0.0548, -0.4120]]) |\tb tensor([-0.1324])\n",
      "epoch 24000, loss: 53.625286 |\tw tensor([[-0.0913,  0.1087, -0.2067,  0.0171,  0.1751,  0.0689,  0.1088,  0.0228,\n",
      "          0.0647,  0.0069, -0.0817,  0.0538, -0.4408]]) |\tb tensor([-0.1310])\n",
      "epoch 27000, loss: 53.412903 |\tw tensor([[-0.1048,  0.1079, -0.2033,  0.0180,  0.1757,  0.0841,  0.1110,  0.0256,\n",
      "          0.0601,  0.0074, -0.0688,  0.0529, -0.4675]]) |\tb tensor([-0.1296])\n",
      "epoch 30000, loss: 53.258915 |\tw tensor([[-0.1166,  0.1069, -0.1999,  0.0189,  0.1762,  0.0990,  0.1127,  0.0283,\n",
      "          0.0559,  0.0079, -0.0562,  0.0521, -0.4923]]) |\tb tensor([-0.1282])\n",
      "epoch 33000, loss: 53.111320 |\tw tensor([[-0.1266,  0.1059, -0.1964,  0.0198,  0.1767,  0.1137,  0.1143,  0.0309,\n",
      "          0.0521,  0.0083, -0.0438,  0.0513, -0.5153]]) |\tb tensor([-0.1269])\n",
      "epoch 36000, loss: 53.059414 |\tw tensor([[-0.1353,  0.1050, -0.1929,  0.0207,  0.1773,  0.1281,  0.1156,  0.0334,\n",
      "          0.0485,  0.0087, -0.0317,  0.0507, -0.5367]]) |\tb tensor([-0.1255])\n",
      "epoch 39000, loss: 52.879578 |\tw tensor([[-0.1426,  0.1041, -0.1894,  0.0215,  0.1778,  0.1423,  0.1167,  0.0358,\n",
      "          0.0453,  0.0089, -0.0198,  0.0500, -0.5566]]) |\tb tensor([-0.1242])\n",
      "epoch 42000, loss: 52.766632 |\tw tensor([[-0.1488,  0.1032, -0.1858,  0.0224,  0.1783,  0.1564,  0.1178,  0.0380,\n",
      "          0.0423,  0.0092, -0.0082,  0.0493, -0.5751]]) |\tb tensor([-0.1229])\n",
      "epoch 45000, loss: 52.637718 |\tw tensor([[-0.1541,  0.1025, -0.1822,  0.0232,  0.1789,  0.1702,  0.1187,  0.0402,\n",
      "          0.0396,  0.0094,  0.0031,  0.0487, -0.5924]]) |\tb tensor([-0.1216])\n",
      "epoch 48000, loss: 52.533314 |\tw tensor([[-0.1585,  0.1017, -0.1786,  0.0241,  0.1794,  0.1838,  0.1195,  0.0423,\n",
      "          0.0371,  0.0095,  0.0142,  0.0482, -0.6084]]) |\tb tensor([-0.1203])\n",
      "epoch 51000, loss: 52.406174 |\tw tensor([[-0.1621,  0.1010, -0.1750,  0.0249,  0.1799,  0.1973,  0.1201,  0.0443,\n",
      "          0.0347,  0.0097,  0.0251,  0.0477, -0.6234]]) |\tb tensor([-0.1190])\n",
      "epoch 54000, loss: 52.235928 |\tw tensor([[-0.1651,  0.1004, -0.1714,  0.0257,  0.1805,  0.2106,  0.1207,  0.0463,\n",
      "          0.0326,  0.0098,  0.0357,  0.0471, -0.6374]]) |\tb tensor([-0.1178])\n",
      "epoch 57000, loss: 52.129196 |\tw tensor([[-0.1675,  0.0998, -0.1678,  0.0265,  0.1810,  0.2237,  0.1211,  0.0481,\n",
      "          0.0306,  0.0099,  0.0461,  0.0467, -0.6504]]) |\tb tensor([-0.1165])\n",
      "epoch 60000, loss: 51.990200 |\tw tensor([[-0.1694,  0.0992, -0.1642,  0.0273,  0.1815,  0.2367,  0.1216,  0.0499,\n",
      "          0.0288,  0.0099,  0.0562,  0.0462, -0.6625]]) |\tb tensor([-0.1153])\n",
      "epoch 63000, loss: 51.807159 |\tw tensor([[-0.1709,  0.0987, -0.1607,  0.0281,  0.1820,  0.2496,  0.1219,  0.0516,\n",
      "          0.0271,  0.0099,  0.0661,  0.0457, -0.6739]]) |\tb tensor([-0.1141])\n",
      "epoch 66000, loss: 51.661663 |\tw tensor([[-0.1719,  0.0981, -0.1571,  0.0289,  0.1825,  0.2623,  0.1222,  0.0532,\n",
      "          0.0255,  0.0099,  0.0758,  0.0453, -0.6845]]) |\tb tensor([-0.1128])\n",
      "epoch 69000, loss: 51.528919 |\tw tensor([[-0.1727,  0.0977, -0.1536,  0.0297,  0.1830,  0.2749,  0.1224,  0.0548,\n",
      "          0.0241,  0.0098,  0.0853,  0.0449, -0.6945]]) |\tb tensor([-0.1116])\n",
      "epoch 72000, loss: 51.341755 |\tw tensor([[-0.1731,  0.0972, -0.1501,  0.0305,  0.1835,  0.2873,  0.1226,  0.0562,\n",
      "          0.0228,  0.0098,  0.0945,  0.0444, -0.7038]]) |\tb tensor([-0.1105])\n",
      "epoch 75000, loss: 51.194832 |\tw tensor([[-0.1733,  0.0968, -0.1467,  0.0313,  0.1841,  0.2997,  0.1226,  0.0576,\n",
      "          0.0216,  0.0098,  0.1035,  0.0441, -0.7124]]) |\tb tensor([-0.1093])\n",
      "epoch 78000, loss: 50.989895 |\tw tensor([[-0.1733,  0.0963, -0.1433,  0.0321,  0.1846,  0.3119,  0.1227,  0.0590,\n",
      "          0.0204,  0.0097,  0.1123,  0.0436, -0.7206]]) |\tb tensor([-0.1081])\n",
      "epoch 81000, loss: 50.824348 |\tw tensor([[-0.1731,  0.0960, -0.1399,  0.0329,  0.1851,  0.3240,  0.1227,  0.0603,\n",
      "          0.0194,  0.0096,  0.1209,  0.0433, -0.7282]]) |\tb tensor([-0.1070])\n",
      "epoch 84000, loss: 50.654285 |\tw tensor([[-0.1728,  0.0956, -0.1366,  0.0336,  0.1856,  0.3359,  0.1227,  0.0615,\n",
      "          0.0184,  0.0095,  0.1293,  0.0430, -0.7353]]) |\tb tensor([-0.1058])\n",
      "epoch 87000, loss: 50.472504 |\tw tensor([[-0.1723,  0.0952, -0.1333,  0.0344,  0.1861,  0.3478,  0.1227,  0.0626,\n",
      "          0.0176,  0.0095,  0.1374,  0.0426, -0.7420]]) |\tb tensor([-0.1047])\n",
      "epoch 90000, loss: 50.289619 |\tw tensor([[-0.1718,  0.0949, -0.1301,  0.0352,  0.1866,  0.3596,  0.1226,  0.0637,\n",
      "          0.0167,  0.0094,  0.1454,  0.0422, -0.7483]]) |\tb tensor([-0.1035])\n",
      "epoch 93000, loss: 50.145325 |\tw tensor([[-0.1711,  0.0946, -0.1269,  0.0360,  0.1870,  0.3713,  0.1224,  0.0647,\n",
      "          0.0160,  0.0092,  0.1532,  0.0420, -0.7541]]) |\tb tensor([-0.1024])\n",
      "epoch 96000, loss: 49.905933 |\tw tensor([[-0.1703,  0.0943, -0.1237,  0.0367,  0.1875,  0.3829,  0.1223,  0.0657,\n",
      "          0.0154,  0.0091,  0.1608,  0.0415, -0.7597]]) |\tb tensor([-0.1013])\n",
      "epoch 99000, loss: 49.781750 |\tw tensor([[-0.1695,  0.0940, -0.1207,  0.0375,  0.1880,  0.3944,  0.1221,  0.0666,\n",
      "          0.0147,  0.0090,  0.1681,  0.0413, -0.7649]]) |\tb tensor([-0.1002])\n"
     ]
    }
   ],
   "source": [
    "# Обучаем модель\n",
    "num_epochs = 100000\n",
    "for epoch in range(1, num_epochs + 1):\n",
    "    for x, y in data_iter:\n",
    "        trainer.zero_grad()\n",
    "        l = loss(model(x).reshape(-1), y)\n",
    "        l.backward()\n",
    "        trainer.step()\n",
    "    l = loss(model(X_test_torch).reshape(-1), y_test_torch)\n",
    "    if epoch % 3000 == 0:\n",
    "        print('epoch %d, loss: %f' % (epoch, l.item()),'|\\tw', model[0].weight.data, '|\\tb', model[0].bias.data)"
   ]
  },
  {
   "cell_type": "code",
   "execution_count": 7,
   "id": "c1332bdd",
   "metadata": {},
   "outputs": [
    {
     "name": "stdout",
     "output_type": "stream",
     "text": [
      "tensor([[-0.1692,  0.0939, -0.1196,  0.0377,  0.1882,  0.3982,  0.1221,  0.0669,\n",
      "          0.0146,  0.0090,  0.1706,  0.0412, -0.7665]])\n",
      "tensor([-0.0999])\n"
     ]
    }
   ],
   "source": [
    "# Параметры регресии \n",
    "print(model[0].weight.data)\n",
    "print(model[0].bias.data)"
   ]
  },
  {
   "cell_type": "markdown",
   "id": "31319423",
   "metadata": {},
   "source": [
    "Задание 2.\n",
    "Наивный баесовский классификатор для MNIST"
   ]
  },
  {
   "cell_type": "code",
   "execution_count": 8,
   "id": "5b6e9c5d",
   "metadata": {},
   "outputs": [
    {
     "name": "stdout",
     "output_type": "stream",
     "text": [
      "Requirement already satisfied: torch in c:\\users\\n3sm3\\anac\\lib\\site-packages (2.0.1)\n",
      "Requirement already satisfied: torchvision in c:\\users\\n3sm3\\anac\\lib\\site-packages (0.15.2)\n",
      "Requirement already satisfied: torchaudio in c:\\users\\n3sm3\\anac\\lib\\site-packages (2.0.2)\n",
      "Requirement already satisfied: sympy in c:\\users\\n3sm3\\anac\\lib\\site-packages (from torch) (1.11.1)\n",
      "Requirement already satisfied: networkx in c:\\users\\n3sm3\\anac\\lib\\site-packages (from torch) (2.8.4)\n",
      "Requirement already satisfied: typing-extensions in c:\\users\\n3sm3\\anac\\lib\\site-packages (from torch) (4.4.0)\n",
      "Requirement already satisfied: jinja2 in c:\\users\\n3sm3\\anac\\lib\\site-packages (from torch) (3.1.2)\n",
      "Requirement already satisfied: filelock in c:\\users\\n3sm3\\anac\\lib\\site-packages (from torch) (3.9.0)\n",
      "Requirement already satisfied: pillow!=8.3.*,>=5.3.0 in c:\\users\\n3sm3\\anac\\lib\\site-packages (from torchvision) (9.4.0)\n",
      "Requirement already satisfied: requests in c:\\users\\n3sm3\\anac\\lib\\site-packages (from torchvision) (2.28.1)\n",
      "Requirement already satisfied: numpy in c:\\users\\n3sm3\\anac\\lib\\site-packages (from torchvision) (1.23.5)\n",
      "Requirement already satisfied: MarkupSafe>=2.0 in c:\\users\\n3sm3\\anac\\lib\\site-packages (from jinja2->torch) (2.1.1)\n",
      "Requirement already satisfied: urllib3<1.27,>=1.21.1 in c:\\users\\n3sm3\\anac\\lib\\site-packages (from requests->torchvision) (1.26.14)\n",
      "Requirement already satisfied: charset-normalizer<3,>=2 in c:\\users\\n3sm3\\anac\\lib\\site-packages (from requests->torchvision) (2.0.4)\n",
      "Requirement already satisfied: certifi>=2017.4.17 in c:\\users\\n3sm3\\anac\\lib\\site-packages (from requests->torchvision) (2022.12.7)\n",
      "Requirement already satisfied: idna<4,>=2.5 in c:\\users\\n3sm3\\anac\\lib\\site-packages (from requests->torchvision) (3.4)\n",
      "Requirement already satisfied: mpmath>=0.19 in c:\\users\\n3sm3\\anac\\lib\\site-packages (from sympy->torch) (1.2.1)\n",
      "Note: you may need to restart the kernel to use updated packages.\n"
     ]
    }
   ],
   "source": [
    "pip install torch torchvision torchaudio"
   ]
  },
  {
   "cell_type": "code",
   "execution_count": 9,
   "id": "490a119e",
   "metadata": {},
   "outputs": [],
   "source": [
    "# Импортируем torchvision и GaussianNB\n",
    "import torchvision\n",
    "from sklearn.naive_bayes import GaussianNB\n",
    "import matplotlib.pyplot as plt\n",
    "%matplotlib inline"
   ]
  },
  {
   "cell_type": "code",
   "execution_count": 10,
   "id": "d2974449",
   "metadata": {},
   "outputs": [],
   "source": [
    "def transform(data):\n",
    "    data = torch.tensor(data.getdata(), dtype=torch.float32)\n",
    "    return torch.floor(data / 128.).squeeze(axis=-1)"
   ]
  },
  {
   "cell_type": "code",
   "execution_count": 11,
   "id": "537719cd",
   "metadata": {},
   "outputs": [],
   "source": [
    "# Импортируем train и test\n",
    "mnist_train = torchvision.datasets.MNIST('.', train=True, transform=transform, download=True)\n",
    "mnist_test  = torchvision.datasets.MNIST('.', train=False, transform=transform, download=True)"
   ]
  },
  {
   "cell_type": "code",
   "execution_count": 12,
   "id": "38b53960",
   "metadata": {},
   "outputs": [
    {
     "data": {
      "text/plain": [
       "<matplotlib.image.AxesImage at 0x248433f8df0>"
      ]
     },
     "execution_count": 12,
     "metadata": {},
     "output_type": "execute_result"
    },
    {
     "data": {
      "image/png": "[encoded data removed]",
      "text/plain": [
       "<Figure size 640x480 with 1 Axes>"
      ]
     },
     "metadata": {},
     "output_type": "display_data"
    }
   ],
   "source": [
    "# Посмотрим на пример\n",
    "plt.imshow(mnist_train[0][0].reshape(28, 28), cmap='gray', vmin=0, vmax=1)"
   ]
  },
  {
   "cell_type": "code",
   "execution_count": 13,
   "id": "227cf5e2",
   "metadata": {},
   "outputs": [],
   "source": [
    "# Импортируем инструменты для наивного байеса\n",
    "from sklearn.naive_bayes import GaussianNB\n",
    "from sklearn.metrics import accuracy_score\n",
    "from sklearn.metrics import confusion_matrix\n",
    "import seaborn as sns"
   ]
  },
  {
   "cell_type": "code",
   "execution_count": 14,
   "id": "3757caf8",
   "metadata": {},
   "outputs": [],
   "source": [
    "# Датасеты\n",
    "train_df = pd.read_csv('train.csv')\n",
    "test_df = pd.read_csv('test.csv')"
   ]
  },
  {
   "cell_type": "code",
   "execution_count": 15,
   "id": "88f577a8",
   "metadata": {},
   "outputs": [],
   "source": [
    "# Трейн делится на признаки и метки\n",
    "X = train_df.iloc[:,1:]\n",
    "y = train_df.label"
   ]
  },
  {
   "cell_type": "code",
   "execution_count": 16,
   "id": "b4eb30f1",
   "metadata": {},
   "outputs": [],
   "source": [
    "# Создаем модель наивного байеса\n",
    "model = GaussianNB()"
   ]
  },
  {
   "cell_type": "code",
   "execution_count": 17,
   "id": "5b479ae7",
   "metadata": {},
   "outputs": [],
   "source": [
    "# Выделяем часть для валидации\n",
    "X_train, X_valid, y_train, y_valid = train_test_split(X, y, random_state=0)\n",
    "# Обучение модели\n",
    "model.fit(X_train, y_train)\n",
    "# Предсказание\n",
    "y_pred = model.predict(X_valid)\n",
    "# Матрица ошибок и точность \n",
    "cm = confusion_matrix(y_valid, y_pred)\n",
    "acs = accuracy_score(y_valid, y_pred)"
   ]
  },
  {
   "cell_type": "code",
   "execution_count": 18,
   "id": "5a95692a",
   "metadata": {},
   "outputs": [
    {
     "name": "stdout",
     "output_type": "stream",
     "text": [
      "0.5652380952380952\n"
     ]
    },
    {
     "data": {
      "image/png": "[encoded data removed]",
      "text/plain": [
       "<Figure size 640x480 with 2 Axes>"
      ]
     },
     "metadata": {},
     "output_type": "display_data"
    }
   ],
   "source": [
    "# Выводим результат\n",
    "sns.heatmap(cm, annot=True, fmt=\"d\")\n",
    "print(acs)"
   ]
  }
 ],
 "metadata": {
  "kernelspec": {
   "display_name": "Python 3 (ipykernel)",
   "language": "python",
   "name": "python3"
  },
  "language_info": {
   "codemirror_mode": {
    "name": "ipython",
    "version": 3
   },
   "file_extension": ".py",
   "mimetype": "text/x-python",
   "name": "python",
   "nbconvert_exporter": "python",
   "pygments_lexer": "ipython3",
   "version": "3.10.9"
  }
 },
 "nbformat": 4,
 "nbformat_minor": 5
}
